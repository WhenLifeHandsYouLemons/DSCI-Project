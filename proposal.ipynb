{
 "cells": [
  {
   "cell_type": "markdown",
   "id": "15e04cb9-3f91-41c7-ad3b-7492935f3201",
   "metadata": {},
   "source": [
    "# Predicting Education Level"
   ]
  },
  {
   "cell_type": "markdown",
   "id": "561f6589-fbdd-481a-b23f-756d76611440",
   "metadata": {},
   "source": [
    "## Introduction\n",
    "\n",
    "At some point in our lives we must decide on how to make a living. People wish to find a path that leads to the most success without using too many resources, and one of the main problems to that is education. The decision to pursue a higher education is both time and money-consuming, which is why our Data Science project question is: \"Can we predict the highest level of education someone has received based on their salary, years of experience, and age?\"\n",
    "\n",
    "The dataset we are using contains 7 columns reading left to right: `Education`, `Experience`, `Location`, `Job_Title`, `Age`, `Gender`, `Salary`, where each row represents an individual worker.\n",
    "\n",
    "- `Education`: four categories representing the highest level of education received: High School, Bachelor, Master, PhD\n",
    "- `Experience`: years of professional experience\n",
    "- `Location`: three locations of work: Urban, Suburban, Rural\n",
    "- `Job_Title`: four general job titles: Manager, Director, Analyst, Engineer\n",
    "- `Age`: age\n",
    "- `Gender`: Female or Male\n",
    "- `Salary`: annual salary"
   ]
  },
  {
   "cell_type": "markdown",
   "id": "229b507b-b87c-4c51-b5e4-55a5c22be9aa",
   "metadata": {},
   "source": [
    "## Preliminary exploratory data analysis"
   ]
  },
  {
   "cell_type": "markdown",
   "id": "a5380fb1-7712-473b-ae0d-42be4ce7e40e",
   "metadata": {},
   "source": [
    "- Demonstrate that the dataset can be read from the web into R\n",
    "\n",
    "We found the dataset on Kaggle. We were able to download it into the project folder as a `.csv` file. After that, we are able to use the `read_csv` function to read it into a data frame to then work with in `R`. The name of the file is \"`salary_prediction_data.csv`\" and it's stored in the `data` folder."
   ]
  },
  {
   "cell_type": "code",
   "execution_count": null,
   "id": "d1b2bfb1-126b-495b-8ac6-8885f66bfa95",
   "metadata": {
    "vscode": {
     "languageId": "r"
    }
   },
   "outputs": [],
   "source": [
    "# Load in the libraries needed to read the csv file\n",
    "library(tidyverse)"
   ]
  },
  {
   "cell_type": "code",
   "execution_count": null,
   "id": "0f334341-29ea-4789-91fa-bb860dab3cf5",
   "metadata": {
    "vscode": {
     "languageId": "r"
    }
   },
   "outputs": [],
   "source": [
    "# Load the csv file into a data frame\n",
    "df_untidy <- read_csv(\"salary_prediction_data.csv\")\n",
    "head(df_untidy)"
   ]
  },
  {
   "cell_type": "markdown",
   "id": "8ced7d8a-6125-4b08-9626-2af57be06840",
   "metadata": {},
   "source": [
    "- Clean and wrangle your data into a tidy format\n",
    "\n",
    "Our dataset is already close to being tidy, but there are a few improvements we could do to make it better. We could change all the predictor names to be lowercase and include the units that it is in. Looking at the salary column (in our original `csv` file), we can see the values are all not rounded to 2 decimal places. We also need to remove the Location, Job_Title, and Gender columns because those are not going to be used as predictors in our analysis."
   ]
  },
  {
   "cell_type": "code",
   "execution_count": null,
   "id": "94d8fa19-d884-4740-bc4f-4a26cc9345ce",
   "metadata": {
    "vscode": {
     "languageId": "r"
    }
   },
   "outputs": [],
   "source": [
    "# Rename all the columns to include the units and be in lowercase\n",
    "# Then select the newly mutated columns only\n",
    "df_tidy <- df_untidy |>\n",
    "    mutate(education = Education, experience_years = Experience, age_years = Age, salary_dollars = Salary) |>\n",
    "    select(education, experience_years, age_years, salary_dollars) |>\n",
    "    mutate(salary_dollars = round(salary_dollars, 2))\n",
    "\n",
    "head(df_tidy)"
   ]
  },
  {
   "cell_type": "markdown",
   "id": "ed29028f-66fe-4a69-9acc-a016c120f108",
   "metadata": {},
   "source": [
    "- Using only training data, summarize the data in at least one table (this is exploratory data analysis). An example of a useful table could be one that reports the number of observations in each class, the means of the predictor variables you plan to use in your analysis and how many rows have missing data."
   ]
  },
  {
   "cell_type": "code",
   "execution_count": null,
   "id": "b41e9a6e-7544-45c5-b9d4-534ef1b6f353",
   "metadata": {
    "vscode": {
     "languageId": "r"
    }
   },
   "outputs": [],
   "source": [
    "# Load library for spliting data into training and testing\n",
    "library(tidymodels)"
   ]
  },
  {
   "cell_type": "code",
   "execution_count": null,
   "id": "f1088c48-33d6-4385-828b-462262c294e9",
   "metadata": {
    "vscode": {
     "languageId": "r"
    }
   },
   "outputs": [],
   "source": [
    "# Split data into a rough 75-25 split\n",
    "df_split <- initial_split(df_tidy, 0.75, education)\n",
    "df_train <- training(df_split)\n",
    "\n",
    "training_amount <- 100\n",
    "\n",
    "# Summarise the average values for each of our predictor classes\n",
    "df_summary_1 <- df_train |>\n",
    "    filter(row_number() <= training_amount) |>\n",
    "    summarise(average_experience_years = round(mean(experience_years, na.rm=TRUE)),\n",
    "              average_age_years = round(mean(age_years, na.rm=TRUE)),\n",
    "              average_salary_dollars = round(mean(salary_dollars, na.rm=TRUE), 2))\n",
    "\n",
    "# Summarise the total observations in each predictor class\n",
    "df_summary_2 <- df_train |>\n",
    "    filter(row_number() <= training_amount) |>\n",
    "    summarise(total_observations = length(experience_years))\n",
    "\n",
    "# There are no observations with missing data.\n",
    "\n",
    "# Print them out\n",
    "print(df_split)\n",
    "head(df_summary_1)\n",
    "head(df_summary_2)"
   ]
  },
  {
   "cell_type": "markdown",
   "id": "bb1d2d27-bc74-4ded-ae4a-5ffd8fd85f3a",
   "metadata": {},
   "source": [
    "- Using only training data, visualize the data with at least one plot relevant to the analysis you plan to do (this is exploratory data analysis). An example of a useful visualization could be one that compares the distributions of each of the predictor variables you plan to use in your analysis."
   ]
  },
  {
   "cell_type": "code",
   "execution_count": null,
   "id": "2c4c5982-d2d5-440d-aad3-f773098ac15c",
   "metadata": {
    "vscode": {
     "languageId": "r"
    }
   },
   "outputs": [],
   "source": [
    "df_plot <- df_training |>\n",
    "    ggplot(aes(x = age_years, y = salary_dollars, color = education)) +\n",
    "    geom_point() +\n",
    "    labs(x = \"Age (years)\", y = \"Salary ($)\", color = \"Education Level\")\n",
    "\n",
    "df_plot"
   ]
  },
  {
   "cell_type": "markdown",
   "id": "383dcf7c-ce1c-4c5f-9d90-4ae2f77ca9d9",
   "metadata": {
    "jp-MarkdownHeadingCollapsed": true
   },
   "source": [
    "## Methods\n",
    "\n",
    "To help answer our question, we plan to use the age, experience, and salary columns within the data set. Instead of gender and location, which lack any significant relationship to a person's education, these can be applied to many people. Furthermore, while the job title variable may have some correlations, there is too much variance in the levels of education for each title that it is not suitable. Suppose a high school student looking into jobs at a certain salary range, then this data can provide insight into the average age, experience, and education standard for the desired amount. Additionally, by using graphs to visualize this information, people can make an informed decision and thus plan out their future accordingly."
   ]
  },
  {
   "cell_type": "markdown",
   "id": "4c709034-3e4d-41a6-b3b3-eb2370e9e80b",
   "metadata": {},
   "source": [
    "## Expected outcomes and significance\n",
    "\n",
    "We expect to find that higher numbers in all predictor fields (salary, years of work experience, and age) predict a higher level of education.\n",
    "\n",
    "We wish to use our findings to help someone determine what education level, years of experience, and age they should be in order to reach a certain salary range. These results may impact the way people choose to allocate the years of their life, and hopefully help them reach a decision in a less ambiguous way.\n",
    "\n",
    "This analysis could lead to future questions about whether or not people should be spending their time and money on higher education in order to reach their desired financial position."
   ]
  },
  {
   "cell_type": "markdown",
   "id": "7affd288-844a-445b-b501-a432decd2549",
   "metadata": {},
   "source": []
  }
 ],
 "metadata": {
  "kernelspec": {
   "display_name": "R",
   "language": "R",
   "name": "ir"
  },
  "language_info": {
   "codemirror_mode": "r",
   "file_extension": ".r",
   "mimetype": "text/x-r-source",
   "name": "R",
   "pygments_lexer": "r",
   "version": "4.3.3"
  }
 },
 "nbformat": 4,
 "nbformat_minor": 5
}
