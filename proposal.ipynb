{
 "cells": [
  {
   "cell_type": "markdown",
   "id": "15e04cb9-3f91-41c7-ad3b-7492935f3201",
   "metadata": {},
   "source": [
    "## Predicting Education Level"
   ]
  },
  {
   "cell_type": "markdown",
   "id": "561f6589-fbdd-481a-b23f-756d76611440",
   "metadata": {
    "jp-MarkdownHeadingCollapsed": true
   },
   "source": [
    "## Introduction\n",
    "\n",
    "People go into the job industry with varying circumstances regarding the way they were raised, taught, and born. At some point in our lives we are made to think about the question, \"What should I do when I grow up?\" Most of the time the answer lands on finding a path to make a living out of. But as young people who have not fully experienced what being a part of society is like yet, we wish to find a path that leads us to the most success without pouring too many resources into achieving the needed qualifications, and the biggest obstacle to that is education. The decision to pursue a higher education is both time and money-consuming, and there is no taking back choice once it has been made. That is why our Data Science project question is: \"Can we predict the highest level of education someone has received based on their salary, years of experience, and age?\"\n",
    "\n",
    "The dataset we are using contains 7 columns reading left to right: `Education`, `Experience`, `Location`, `Job_Title`, `Age`, `Gender`, `Salary`, where each row represents an individual worker.\n",
    "\n",
    "- `Education`: four categories, each representing the highest level of education received: High School, Bachelor, Master, PhD\n",
    "- `Experience`: years of total work experience earned in their listed job\n",
    "- `Location`: location of work split into three categories: Urban, Suburban, Rural\n",
    "- `Job_Title`: four general types of job titles: Manager, Director, Analyst, Engineer\n",
    "- `Age`: age of the worker\n",
    "- `Gender`: Female or Male\n",
    "- `Salary`: salary of the worker  "
   ]
  },
  {
   "cell_type": "markdown",
   "id": "229b507b-b87c-4c51-b5e4-55a5c22be9aa",
   "metadata": {},
   "source": [
    "## Preliminary exploratory data analysis\n",
    "\n",
    "- Demonstrate that the dataset can be read from the web into R\n",
    "- Clean and wrangle your data into a tidy format\n",
    "- Using only training data, summarize the data in at least one table (this is exploratory data analysis). An example of a useful table could be one that reports the number of observations in each class, the means of the predictor variables you plan to use in your analysis and how many rows have missing data.\n",
    "- Using only training data, visualize the data with at least one plot relevant to the analysis you plan to do (this is exploratory data analysis). An example of a useful visualization could be one that compares the distributions of each of the predictor variables you plan to use in your ld this lead to?"
   ]
  },
  {
   "cell_type": "markdown",
   "id": "383dcf7c-ce1c-4c5f-9d90-4ae2f77ca9d9",
   "metadata": {},
   "source": [
    "## Methods\n",
    "\n",
    "- Explain how you will conduct either your data analysis and which variables/columns you will use. Note - you do not need to use all variables/columns that exist in the raw data set. In fact, that's often not a good idea. For each variable think: is this a useful variable for prediction?\n",
    "- Describe at least one way that you will visualize the results"
   ]
  },
  {
   "cell_type": "markdown",
   "id": "4c709034-3e4d-41a6-b3b3-eb2370e9e80b",
   "metadata": {},
   "source": [
    "## Expected outcomes and significance\n",
    "\n",
    "We expect to find that higher numbers in all predictor fields (salary, years of work experience, and age) predict a higher level of education.\n",
    "\n",
    "We wish to use our findings to help someone determine what education level, years of experience, and age they should be in order to reach a certain salary range. These results may impact the way people choose to allocate the years of their life, and hopefully help them reach a decision in a less ambiguous way.\n",
    "\n",
    "This analysis could lead to future questions about whether or not people should be spending their time and money on higher education in order to reach their desired financial position."
   ]
  },
  {
   "cell_type": "markdown",
   "id": "7affd288-844a-445b-b501-a432decd2549",
   "metadata": {},
   "source": []
  }
 ],
 "metadata": {
  "kernelspec": {
   "display_name": "R",
   "language": "R",
   "name": "ir"
  },
  "language_info": {
   "codemirror_mode": "r",
   "file_extension": ".r",
   "mimetype": "text/x-r-source",
   "name": "R",
   "pygments_lexer": "r",
   "version": "4.3.1"
  }
 },
 "nbformat": 4,
 "nbformat_minor": 5
}
