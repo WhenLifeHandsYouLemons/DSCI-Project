{
 "cells": [
  {
   "cell_type": "markdown",
   "id": "15e04cb9-3f91-41c7-ad3b-7492935f3201",
   "metadata": {},
   "source": [
    "# Predicting Education Level"
   ]
  },
  {
   "cell_type": "markdown",
   "id": "561f6589-fbdd-481a-b23f-756d76611440",
   "metadata": {},
   "source": [
    "## Introduction\n",
    "\n",
    "At some point in our lives we must decide on how to make a living. People wish to find a path that leads to the most success without using too many resources, and one of the main problems to that is education. The decision to pursue a higher education is both time and money-consuming, which is why our Data Science project question is: \"Can we predict the highest level of education someone has received based on their salary, years of experience, and age?\"\n",
    "\n",
    "The dataset we are using contains 7 columns reading left to right: `Education`, `Experience`, `Location`, `Job_Title`, `Age`, `Gender`, `Salary`, where each row represents an individual worker.\n",
    "\n",
    "- `Education`: four categories representing the highest level of education received: High School, Bachelor, Master, PhD\n",
    "- `Experience`: years of professional experience\n",
    "- `Location`: three locations of work: Urban, Suburban, Rural\n",
    "- `Job_Title`: four general job titles: Manager, Director, Analyst, Engineer\n",
    "- `Age`: age\n",
    "- `Gender`: Female or Male\n",
    "- `Salary`: annual salary"
   ]
  },
  {
   "cell_type": "markdown",
   "id": "229b507b-b87c-4c51-b5e4-55a5c22be9aa",
   "metadata": {},
   "source": [
    "## Preliminary exploratory data analysis"
   ]
  },
  {
   "cell_type": "markdown",
   "id": "a5380fb1-7712-473b-ae0d-42be4ce7e40e",
   "metadata": {},
   "source": [
    "- Demonstrate that the dataset can be read from the web into R\n",
    "\n",
    "We found the dataset on Kaggle. We were able to download it into the project folder as a `.csv` file. After that, we are able to use the `read_csv` function to read it into a data frame to then work with in `R`. The name of the file is \"`salary_prediction_data.csv`\" and it's stored in the `data` folder."
   ]
  },
  {
   "cell_type": "code",
   "execution_count": 6,
   "id": "d1b2bfb1-126b-495b-8ac6-8885f66bfa95",
   "metadata": {
    "vscode": {
     "languageId": "r"
    }
   },
   "outputs": [],
   "source": [
    "# Load in the libraries needed to read the csv file\n",
    "library(tidyverse)"
   ]
  },
  {
   "cell_type": "code",
   "execution_count": 7,
   "id": "0f334341-29ea-4789-91fa-bb860dab3cf5",
   "metadata": {
    "vscode": {
     "languageId": "r"
    }
   },
   "outputs": [
    {
     "name": "stderr",
     "output_type": "stream",
     "text": [
      "\u001b[1mRows: \u001b[22m\u001b[34m1000\u001b[39m \u001b[1mColumns: \u001b[22m\u001b[34m7\u001b[39m\n",
      "\u001b[36m──\u001b[39m \u001b[1mColumn specification\u001b[22m \u001b[36m────────────────────────────────────────────────────────\u001b[39m\n",
      "\u001b[1mDelimiter:\u001b[22m \",\"\n",
      "\u001b[31mchr\u001b[39m (4): Education, Location, Job_Title, Gender\n",
      "\u001b[32mdbl\u001b[39m (3): Experience, Age, Salary\n",
      "\n",
      "\u001b[36mℹ\u001b[39m Use `spec()` to retrieve the full column specification for this data.\n",
      "\u001b[36mℹ\u001b[39m Specify the column types or set `show_col_types = FALSE` to quiet this message.\n"
     ]
    },
    {
     "data": {
      "text/html": [
       "<table class=\"dataframe\">\n",
       "<caption>A tibble: 6 × 7</caption>\n",
       "<thead>\n",
       "\t<tr><th scope=col>Education</th><th scope=col>Experience</th><th scope=col>Location</th><th scope=col>Job_Title</th><th scope=col>Age</th><th scope=col>Gender</th><th scope=col>Salary</th></tr>\n",
       "\t<tr><th scope=col>&lt;chr&gt;</th><th scope=col>&lt;dbl&gt;</th><th scope=col>&lt;chr&gt;</th><th scope=col>&lt;chr&gt;</th><th scope=col>&lt;dbl&gt;</th><th scope=col>&lt;chr&gt;</th><th scope=col>&lt;dbl&gt;</th></tr>\n",
       "</thead>\n",
       "<tbody>\n",
       "\t<tr><td>High School</td><td> 8</td><td>Urban   </td><td>Manager </td><td>63</td><td>Male  </td><td> 84620.05</td></tr>\n",
       "\t<tr><td>PhD        </td><td>11</td><td>Suburban</td><td>Director</td><td>59</td><td>Male  </td><td>142591.26</td></tr>\n",
       "\t<tr><td>Bachelor   </td><td>28</td><td>Suburban</td><td>Manager </td><td>61</td><td>Female</td><td> 97800.26</td></tr>\n",
       "\t<tr><td>High School</td><td>29</td><td>Rural   </td><td>Director</td><td>45</td><td>Male  </td><td> 96834.67</td></tr>\n",
       "\t<tr><td>PhD        </td><td>25</td><td>Urban   </td><td>Analyst </td><td>26</td><td>Female</td><td>132157.79</td></tr>\n",
       "\t<tr><td>PhD        </td><td>19</td><td>Rural   </td><td>Director</td><td>27</td><td>Female</td><td>156312.94</td></tr>\n",
       "</tbody>\n",
       "</table>\n"
      ],
      "text/latex": [
       "A tibble: 6 × 7\n",
       "\\begin{tabular}{lllllll}\n",
       " Education & Experience & Location & Job\\_Title & Age & Gender & Salary\\\\\n",
       " <chr> & <dbl> & <chr> & <chr> & <dbl> & <chr> & <dbl>\\\\\n",
       "\\hline\n",
       "\t High School &  8 & Urban    & Manager  & 63 & Male   &  84620.05\\\\\n",
       "\t PhD         & 11 & Suburban & Director & 59 & Male   & 142591.26\\\\\n",
       "\t Bachelor    & 28 & Suburban & Manager  & 61 & Female &  97800.26\\\\\n",
       "\t High School & 29 & Rural    & Director & 45 & Male   &  96834.67\\\\\n",
       "\t PhD         & 25 & Urban    & Analyst  & 26 & Female & 132157.79\\\\\n",
       "\t PhD         & 19 & Rural    & Director & 27 & Female & 156312.94\\\\\n",
       "\\end{tabular}\n"
      ],
      "text/markdown": [
       "\n",
       "A tibble: 6 × 7\n",
       "\n",
       "| Education &lt;chr&gt; | Experience &lt;dbl&gt; | Location &lt;chr&gt; | Job_Title &lt;chr&gt; | Age &lt;dbl&gt; | Gender &lt;chr&gt; | Salary &lt;dbl&gt; |\n",
       "|---|---|---|---|---|---|---|\n",
       "| High School |  8 | Urban    | Manager  | 63 | Male   |  84620.05 |\n",
       "| PhD         | 11 | Suburban | Director | 59 | Male   | 142591.26 |\n",
       "| Bachelor    | 28 | Suburban | Manager  | 61 | Female |  97800.26 |\n",
       "| High School | 29 | Rural    | Director | 45 | Male   |  96834.67 |\n",
       "| PhD         | 25 | Urban    | Analyst  | 26 | Female | 132157.79 |\n",
       "| PhD         | 19 | Rural    | Director | 27 | Female | 156312.94 |\n",
       "\n"
      ],
      "text/plain": [
       "  Education   Experience Location Job_Title Age Gender Salary   \n",
       "1 High School  8         Urban    Manager   63  Male    84620.05\n",
       "2 PhD         11         Suburban Director  59  Male   142591.26\n",
       "3 Bachelor    28         Suburban Manager   61  Female  97800.26\n",
       "4 High School 29         Rural    Director  45  Male    96834.67\n",
       "5 PhD         25         Urban    Analyst   26  Female 132157.79\n",
       "6 PhD         19         Rural    Director  27  Female 156312.94"
      ]
     },
     "metadata": {},
     "output_type": "display_data"
    }
   ],
   "source": [
    "# Load the csv file into a data frame\n",
    "df_untidy <- read_csv(\"salary_prediction_data.csv\")\n",
    "head(df_untidy)"
   ]
  },
  {
   "cell_type": "markdown",
   "id": "8ced7d8a-6125-4b08-9626-2af57be06840",
   "metadata": {},
   "source": [
    "- Clean and wrangle your data into a tidy format\n",
    "\n",
    "Our dataset is already close to being tidy, but there are a few improvements we could do to make it better. We could change all the predictor names to be lowercase and include the units that it is in. Looking at the salary column (in our original `csv` file), we can see the values are all not rounded to 2 decimal places. We also need to remove the Location, Job_Title, and Gender columns because those are not going to be used as predictors in our analysis."
   ]
  },
  {
   "cell_type": "code",
   "execution_count": 8,
   "id": "94d8fa19-d884-4740-bc4f-4a26cc9345ce",
   "metadata": {
    "vscode": {
     "languageId": "r"
    }
   },
   "outputs": [
    {
     "data": {
      "text/html": [
       "<table class=\"dataframe\">\n",
       "<caption>A tibble: 6 × 4</caption>\n",
       "<thead>\n",
       "\t<tr><th scope=col>education</th><th scope=col>experience_years</th><th scope=col>age_years</th><th scope=col>salary_dollars</th></tr>\n",
       "\t<tr><th scope=col>&lt;chr&gt;</th><th scope=col>&lt;dbl&gt;</th><th scope=col>&lt;dbl&gt;</th><th scope=col>&lt;dbl&gt;</th></tr>\n",
       "</thead>\n",
       "<tbody>\n",
       "\t<tr><td>High School</td><td> 8</td><td>63</td><td> 84620.05</td></tr>\n",
       "\t<tr><td>PhD        </td><td>11</td><td>59</td><td>142591.26</td></tr>\n",
       "\t<tr><td>Bachelor   </td><td>28</td><td>61</td><td> 97800.26</td></tr>\n",
       "\t<tr><td>High School</td><td>29</td><td>45</td><td> 96834.67</td></tr>\n",
       "\t<tr><td>PhD        </td><td>25</td><td>26</td><td>132157.79</td></tr>\n",
       "\t<tr><td>PhD        </td><td>19</td><td>27</td><td>156312.94</td></tr>\n",
       "</tbody>\n",
       "</table>\n"
      ],
      "text/latex": [
       "A tibble: 6 × 4\n",
       "\\begin{tabular}{llll}\n",
       " education & experience\\_years & age\\_years & salary\\_dollars\\\\\n",
       " <chr> & <dbl> & <dbl> & <dbl>\\\\\n",
       "\\hline\n",
       "\t High School &  8 & 63 &  84620.05\\\\\n",
       "\t PhD         & 11 & 59 & 142591.26\\\\\n",
       "\t Bachelor    & 28 & 61 &  97800.26\\\\\n",
       "\t High School & 29 & 45 &  96834.67\\\\\n",
       "\t PhD         & 25 & 26 & 132157.79\\\\\n",
       "\t PhD         & 19 & 27 & 156312.94\\\\\n",
       "\\end{tabular}\n"
      ],
      "text/markdown": [
       "\n",
       "A tibble: 6 × 4\n",
       "\n",
       "| education &lt;chr&gt; | experience_years &lt;dbl&gt; | age_years &lt;dbl&gt; | salary_dollars &lt;dbl&gt; |\n",
       "|---|---|---|---|\n",
       "| High School |  8 | 63 |  84620.05 |\n",
       "| PhD         | 11 | 59 | 142591.26 |\n",
       "| Bachelor    | 28 | 61 |  97800.26 |\n",
       "| High School | 29 | 45 |  96834.67 |\n",
       "| PhD         | 25 | 26 | 132157.79 |\n",
       "| PhD         | 19 | 27 | 156312.94 |\n",
       "\n"
      ],
      "text/plain": [
       "  education   experience_years age_years salary_dollars\n",
       "1 High School  8               63         84620.05     \n",
       "2 PhD         11               59        142591.26     \n",
       "3 Bachelor    28               61         97800.26     \n",
       "4 High School 29               45         96834.67     \n",
       "5 PhD         25               26        132157.79     \n",
       "6 PhD         19               27        156312.94     "
      ]
     },
     "metadata": {},
     "output_type": "display_data"
    }
   ],
   "source": [
    "# Rename all the columns to include the units and be in lowercase\n",
    "# Then select the newly mutated columns only\n",
    "df_tidy <- df_untidy |>\n",
    "    mutate(education = Education, experience_years = Experience, age_years = Age, salary_dollars = Salary) |>\n",
    "    select(education, experience_years, age_years, salary_dollars) |>\n",
    "    mutate(salary_dollars = round(salary_dollars, 2))\n",
    "\n",
    "head(df_tidy)"
   ]
  },
  {
   "cell_type": "markdown",
   "id": "ed29028f-66fe-4a69-9acc-a016c120f108",
   "metadata": {},
   "source": [
    "- Using only training data, summarize the data in at least one table (this is exploratory data analysis). An example of a useful table could be one that reports the number of observations in each class, the means of the predictor variables you plan to use in your analysis and how many rows have missing data."
   ]
  },
  {
   "cell_type": "code",
   "execution_count": 9,
   "id": "b41e9a6e-7544-45c5-b9d4-534ef1b6f353",
   "metadata": {
    "vscode": {
     "languageId": "r"
    }
   },
   "outputs": [
    {
     "name": "stderr",
     "output_type": "stream",
     "text": [
      "── \u001b[1mAttaching packages\u001b[22m ────────────────────────────────────── tidymodels 1.1.1 ──\n",
      "\n",
      "\u001b[32m✔\u001b[39m \u001b[34mbroom       \u001b[39m 1.0.5      \u001b[32m✔\u001b[39m \u001b[34mrsample     \u001b[39m 1.2.0 \n",
      "\u001b[32m✔\u001b[39m \u001b[34mdials       \u001b[39m 1.2.1      \u001b[32m✔\u001b[39m \u001b[34mtune        \u001b[39m 1.1.2 \n",
      "\u001b[32m✔\u001b[39m \u001b[34minfer       \u001b[39m 1.0.6      \u001b[32m✔\u001b[39m \u001b[34mworkflows   \u001b[39m 1.1.4 \n",
      "\u001b[32m✔\u001b[39m \u001b[34mmodeldata   \u001b[39m 1.3.0      \u001b[32m✔\u001b[39m \u001b[34mworkflowsets\u001b[39m 1.0.1 \n",
      "\u001b[32m✔\u001b[39m \u001b[34mparsnip     \u001b[39m 1.2.0      \u001b[32m✔\u001b[39m \u001b[34myardstick   \u001b[39m 1.3.0 \n",
      "\u001b[32m✔\u001b[39m \u001b[34mrecipes     \u001b[39m 1.0.10     \n",
      "\n",
      "── \u001b[1mConflicts\u001b[22m ───────────────────────────────────────── tidymodels_conflicts() ──\n",
      "\u001b[31m✖\u001b[39m \u001b[34mscales\u001b[39m::\u001b[32mdiscard()\u001b[39m masks \u001b[34mpurrr\u001b[39m::discard()\n",
      "\u001b[31m✖\u001b[39m \u001b[34mdplyr\u001b[39m::\u001b[32mfilter()\u001b[39m   masks \u001b[34mstats\u001b[39m::filter()\n",
      "\u001b[31m✖\u001b[39m \u001b[34mrecipes\u001b[39m::\u001b[32mfixed()\u001b[39m  masks \u001b[34mstringr\u001b[39m::fixed()\n",
      "\u001b[31m✖\u001b[39m \u001b[34mdplyr\u001b[39m::\u001b[32mlag()\u001b[39m      masks \u001b[34mstats\u001b[39m::lag()\n",
      "\u001b[31m✖\u001b[39m \u001b[34myardstick\u001b[39m::\u001b[32mspec()\u001b[39m masks \u001b[34mreadr\u001b[39m::spec()\n",
      "\u001b[31m✖\u001b[39m \u001b[34mrecipes\u001b[39m::\u001b[32mstep()\u001b[39m   masks \u001b[34mstats\u001b[39m::step()\n",
      "\u001b[34m•\u001b[39m Search for functions across packages at \u001b[32mhttps://www.tidymodels.org/find/\u001b[39m\n",
      "\n"
     ]
    }
   ],
   "source": [
    "# Load library for spliting data into training and testing\n",
    "library(tidymodels)"
   ]
  },
  {
   "cell_type": "code",
   "execution_count": 10,
   "id": "f1088c48-33d6-4385-828b-462262c294e9",
   "metadata": {
    "vscode": {
     "languageId": "r"
    }
   },
   "outputs": [
    {
     "name": "stdout",
     "output_type": "stream",
     "text": [
      "<Training/Testing/Total>\n",
      "<748/252/1000>\n"
     ]
    },
    {
     "data": {
      "text/html": [
       "<table class=\"dataframe\">\n",
       "<caption>A tibble: 1 × 3</caption>\n",
       "<thead>\n",
       "\t<tr><th scope=col>average_experience_years</th><th scope=col>average_age_years</th><th scope=col>average_salary_dollars</th></tr>\n",
       "\t<tr><th scope=col>&lt;dbl&gt;</th><th scope=col>&lt;dbl&gt;</th><th scope=col>&lt;dbl&gt;</th></tr>\n",
       "</thead>\n",
       "<tbody>\n",
       "\t<tr><td>14</td><td>42</td><td>90658.49</td></tr>\n",
       "</tbody>\n",
       "</table>\n"
      ],
      "text/latex": [
       "A tibble: 1 × 3\n",
       "\\begin{tabular}{lll}\n",
       " average\\_experience\\_years & average\\_age\\_years & average\\_salary\\_dollars\\\\\n",
       " <dbl> & <dbl> & <dbl>\\\\\n",
       "\\hline\n",
       "\t 14 & 42 & 90658.49\\\\\n",
       "\\end{tabular}\n"
      ],
      "text/markdown": [
       "\n",
       "A tibble: 1 × 3\n",
       "\n",
       "| average_experience_years &lt;dbl&gt; | average_age_years &lt;dbl&gt; | average_salary_dollars &lt;dbl&gt; |\n",
       "|---|---|---|\n",
       "| 14 | 42 | 90658.49 |\n",
       "\n"
      ],
      "text/plain": [
       "  average_experience_years average_age_years average_salary_dollars\n",
       "1 14                       42                90658.49              "
      ]
     },
     "metadata": {},
     "output_type": "display_data"
    },
    {
     "data": {
      "text/html": [
       "<table class=\"dataframe\">\n",
       "<caption>A tibble: 1 × 1</caption>\n",
       "<thead>\n",
       "\t<tr><th scope=col>total_observations</th></tr>\n",
       "\t<tr><th scope=col>&lt;int&gt;</th></tr>\n",
       "</thead>\n",
       "<tbody>\n",
       "\t<tr><td>100</td></tr>\n",
       "</tbody>\n",
       "</table>\n"
      ],
      "text/latex": [
       "A tibble: 1 × 1\n",
       "\\begin{tabular}{l}\n",
       " total\\_observations\\\\\n",
       " <int>\\\\\n",
       "\\hline\n",
       "\t 100\\\\\n",
       "\\end{tabular}\n"
      ],
      "text/markdown": [
       "\n",
       "A tibble: 1 × 1\n",
       "\n",
       "| total_observations &lt;int&gt; |\n",
       "|---|\n",
       "| 100 |\n",
       "\n"
      ],
      "text/plain": [
       "  total_observations\n",
       "1 100               "
      ]
     },
     "metadata": {},
     "output_type": "display_data"
    }
   ],
   "source": [
    "# Split data into a rough 75-25 split\n",
    "df_split <- initial_split(df_tidy, 0.75, education)\n",
    "df_train <- training(df_split)\n",
    "\n",
    "training_amount <- 100\n",
    "\n",
    "# Summarise the average values for each of our predictor classes\n",
    "df_summary_1 <- df_train |>\n",
    "    filter(row_number() <= training_amount) |>\n",
    "    summarise(average_experience_years = round(mean(experience_years, na.rm=TRUE)),\n",
    "              average_age_years = round(mean(age_years, na.rm=TRUE)),\n",
    "              average_salary_dollars = round(mean(salary_dollars, na.rm=TRUE), 2))\n",
    "\n",
    "# Summarise the total observations in each predictor class\n",
    "df_summary_2 <- df_train |>\n",
    "    filter(row_number() <= training_amount) |>\n",
    "    summarise(total_observations = length(experience_years))\n",
    "\n",
    "# There are no observations with missing data.\n",
    "\n",
    "# Print them out\n",
    "print(df_split)\n",
    "head(df_summary_1)\n",
    "head(df_summary_2)"
   ]
  },
  {
   "cell_type": "markdown",
   "id": "bb1d2d27-bc74-4ded-ae4a-5ffd8fd85f3a",
   "metadata": {},
   "source": [
    "- Using only training data, visualize the data with at least one plot relevant to the analysis you plan to do (this is exploratory data analysis). An example of a useful visualization could be one that compares the distributions of each of the predictor variables you plan to use in your analysis."
   ]
  },
  {
   "cell_type": "code",
   "execution_count": 11,
   "id": "2c4c5982-d2d5-440d-aad3-f773098ac15c",
   "metadata": {
    "vscode": {
     "languageId": "r"
    }
   },
   "outputs": [
    {
     "data": {
      "image/png": "[encoded data removed]",
      "text/plain": [
       "plot without title"
      ]
     },
     "metadata": {
      "image/png": {
       "height": 420,
       "width": 420
      }
     },
     "output_type": "display_data"
    }
   ],
   "source": [
    "df_plot <- df_training |>\n",
    "    ggplot(aes(x = age_years, y = salary_dollars, color = education)) +\n",
    "    geom_point() +\n",
    "    labs(x = \"Age (years)\", y = \"Salary ($)\", color = \"Education Level\")\n",
    "\n",
    "df_plot"
   ]
  },
  {
   "cell_type": "markdown",
   "id": "383dcf7c-ce1c-4c5f-9d90-4ae2f77ca9d9",
   "metadata": {
    "jp-MarkdownHeadingCollapsed": true
   },
   "source": [
    "## Methods\n",
    "\n",
    "To help answer our question, we plan to use the age, experience, and salary columns within the data set. Instead of gender and location, which lack any significant relationship to a person's education, these can be applied to many people. Furthermore, while the job title variable may have some correlations, there is too much variance in the levels of education for each title that it is not suitable. Suppose a high school student looking into jobs at a certain salary range, then this data can provide insight into the average age, experience, and education standard for the desired amount. Additionally, by using graphs to visualize this information, people can make an informed decision and thus plan out their future accordingly."
   ]
  },
  {
   "cell_type": "markdown",
   "id": "4c709034-3e4d-41a6-b3b3-eb2370e9e80b",
   "metadata": {},
   "source": [
    "## Expected outcomes and significance\n",
    "\n",
    "We expect to find that higher numbers in all predictor fields (salary, years of work experience, and age) predict a higher level of education.\n",
    "\n",
    "We wish to use our findings to help someone determine what education level, years of experience, and age they should be in order to reach a certain salary range. These results may impact the way people choose to allocate the years of their life, and hopefully help them reach a decision in a less ambiguous way.\n",
    "\n",
    "This analysis could lead to future questions about whether or not people should be spending their time and money on higher education in order to reach their desired financial position."
   ]
  },
  {
   "cell_type": "markdown",
   "id": "7affd288-844a-445b-b501-a432decd2549",
   "metadata": {},
   "source": []
  }
 ],
 "metadata": {
  "kernelspec": {
   "display_name": "R",
   "language": "R",
   "name": "ir"
  },
  "language_info": {
   "codemirror_mode": "r",
   "file_extension": ".r",
   "mimetype": "text/x-r-source",
   "name": "R",
   "pygments_lexer": "r",
   "version": "4.3.3"
  }
 },
 "nbformat": 4,
 "nbformat_minor": 5
}
