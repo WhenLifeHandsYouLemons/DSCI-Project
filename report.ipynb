{
 "cells": [
  {
   "cell_type": "markdown",
   "id": "15e04cb9-3f91-41c7-ad3b-7492935f3201",
   "metadata": {},
   "source": [
    "# Predicting Job Salary"
   ]
  },
  {
   "cell_type": "markdown",
   "id": "561f6589-fbdd-481a-b23f-756d76611440",
   "metadata": {},
   "source": [
    "## Introduction\n",
    "\n",
    "It is generally conceived that the salary amount of a worker depends on job type and experience, but we would like to see if it is possible to reduce this back further to education level. The ability for someone to get a “better” job tends to depend on their education level, which is why our Data Science project question is: \"Can we predict the salary of a worker depending on their education level and years of working experience in their job?”\n",
    "\n",
    "The dataset we are using contains 7 columns reading left to right: `Education`, `Experience`, `Location`, `Job_Title`, `Age`, `Gender`, and `Salary`, where each row represents an individual worker.\n",
    "\n",
    "- `Education`: four categories representing the highest level of education received: High School, Bachelor, Master, PhD\n",
    "- `Experience`: years of professional experience\n",
    "- `Location`: three locations of work: Urban, Suburban, Rural\n",
    "- `Job_Title`: four general job titles: Manager, Director, Analyst, Engineer\n",
    "- `Age`: age\n",
    "- `Gender`: Female or Male\n",
    "- `Salary`: annual salary"
   ]
  },
  {
   "cell_type": "markdown",
   "id": "229b507b-b87c-4c51-b5e4-55a5c22be9aa",
   "metadata": {},
   "source": [
    "## Data analysis"
   ]
  },
  {
   "cell_type": "markdown",
   "id": "a5380fb1-7712-473b-ae0d-42be4ce7e40e",
   "metadata": {},
   "source": [
    "In order to do the data analysis, we first need to download and load in our data."
   ]
  },
  {
   "cell_type": "code",
   "execution_count": null,
   "id": "d1b2bfb1-126b-495b-8ac6-8885f66bfa95",
   "metadata": {
    "vscode": {
     "languageId": "r"
    }
   },
   "outputs": [],
   "source": [
    "library(tidyverse)  # Load in the library needed to read the csv file"
   ]
  },
  {
   "cell_type": "code",
   "execution_count": null,
   "id": "0f334341-29ea-4789-91fa-bb860dab3cf5",
   "metadata": {
    "vscode": {
     "languageId": "r"
    }
   },
   "outputs": [],
   "source": [
    "# Download and load the csv file into a data frame\n",
    "# Dataset website: https://www.kaggle.com/datasets/mrsimple07/salary-prediction-data\n",
    "website <- \"https://raw.githubusercontent.com/WhenLifeHandsYouLemons/UBC-DSCI-100-Project/data/salary_prediction_data.csv\"\n",
    "download.file(website, \"salary_prediction_data.csv\")\n",
    "\n",
    "df_untidy <- read_csv(\"salary_prediction_data.csv\")\n",
    "\n",
    "# Dataset before cleaning\n",
    "head(df_untidy)"
   ]
  },
  {
   "cell_type": "markdown",
   "id": "b2e0f575",
   "metadata": {},
   "source": [
    "*Table 1: Untidy data*"
   ]
  },
  {
   "cell_type": "markdown",
   "id": "bf114516-49e8-4581-a42a-944a05e8d96b",
   "metadata": {},
   "source": [
    "Looking at *Table 1*, we can see that our headers are not in a tidy format and that they include many columns that we will not be using in our model. We can tidy our dataset to only include the columns (variables) we'll use and then clean up the row data to work better with our code. We will clean it by making the variables all lowercase and using underlines instead of spaces. We will also round the `salary` column to be $2$ decimal places as it's a dollar amount and so can only be up to $2$ decimal places."
   ]
  },
  {
   "cell_type": "code",
   "execution_count": null,
   "id": "94d8fa19-d884-4740-bc4f-4a26cc9345ce",
   "metadata": {
    "vscode": {
     "languageId": "r"
    }
   },
   "outputs": [],
   "source": [
    "# Rename all the columns to include the units and be in lowercase\n",
    "# Then select the newly mutated columns that we will use in our analysis only\n",
    "df_tidy <- df_untidy |>\n",
    "    mutate(education = Education, experience_years = Experience, salary_dollars = Salary) |>\n",
    "    select(salary_dollars, education, experience_years) |>\n",
    "    mutate(salary_dollars = round(salary_dollars, 2)) |>  # We round the dollars to 2 decimal places\n",
    "    mutate(education = as_factor(education))  # We change the column's data type\n",
    "\n",
    "# Create dummy variables for education levels\n",
    "# This is used for predicting and then combined into one for visualisations\n",
    "df_tidy$phd <- as.numeric(df_tidy$education == \"PhD\")\n",
    "df_tidy$bachelor <- as.numeric(df_tidy$education == \"Bachelor\")\n",
    "df_tidy$master <- as.numeric(df_tidy$education == \"Master\")\n",
    "df_tidy$high_school <- as.numeric(df_tidy$education == \"High School\")\n",
    "\n",
    "# This is the same dataset, but cleaned up\n",
    "head(df_tidy)"
   ]
  },
  {
   "cell_type": "markdown",
   "id": "c3dc0416",
   "metadata": {},
   "source": [
    "*Table 2: Tidied data with split education levels*"
   ]
  },
  {
   "cell_type": "markdown",
   "id": "ed29028f-66fe-4a69-9acc-a016c120f108",
   "metadata": {},
   "source": [
    "In *Table 2*, we can see that we have tidied our data. We have also taken the \"`Education`\" column and converted it into a numerical value. We did this because we wanted to use the \"`Education`\" column as a predictor variable in our model and so they needed to be in numeric form. To do so, we separated the \"`Education`\" column into four separate columns, each representing a different education level. We then assigned a $1$ to the column that corresponds to the education level of the worker and $0$ to the other columns. This way, we were able to use the \"`Education`\" column as a predictor variable in our model.\n",
    "\n",
    "Now, we can load the `tidymodels` library in order to do the regression analysis."
   ]
  },
  {
   "cell_type": "code",
   "execution_count": null,
   "id": "b41e9a6e-7544-45c5-b9d4-534ef1b6f353",
   "metadata": {
    "vscode": {
     "languageId": "r"
    }
   },
   "outputs": [],
   "source": [
    "library(tidymodels)  # Load library for spliting data into training and testing\n",
    "library(gridExtra)  # Load library for positioning plots side-by-side"
   ]
  },
  {
   "cell_type": "markdown",
   "id": "b2f3a38c-9c46-415f-b5e3-3b4a91572c20",
   "metadata": {},
   "source": [
    "After loading the library, we can split our entire dataset into a training and a testing split. To make it consistent each time (not be affected by randomness), we use the `set.seed()` function to make it split the same each time it's run.\n",
    "\n",
    "Before we do the training and analysis, we should look at a section of our data and get some simple statistics from it to get an idea of how our data looks like."
   ]
  },
  {
   "cell_type": "code",
   "execution_count": null,
   "id": "f1088c48-33d6-4385-828b-462262c294e9",
   "metadata": {
    "vscode": {
     "languageId": "r"
    }
   },
   "outputs": [],
   "source": [
    "# Set the seed for this code cell\n",
    "set.seed(1)\n",
    "\n",
    "# Split data into a rough 75-25 split\n",
    "df_split <- initial_split(df_tidy, 0.75, salary_dollars)\n",
    "df_training <- training(df_split)\n",
    "df_testing <- testing(df_split)\n",
    "\n",
    "# Summarise the values in each of our predictor classes\n",
    "df_summary <- df_training |>\n",
    "    summarise(\"Total observations in subsection\" = length(experience_years),\n",
    "              \"Average experience (years)\" = round(mean(experience_years, na.rm = TRUE)),\n",
    "              \"Average salary (dollars)\" = round(mean(salary_dollars, na.rm = TRUE), 2),\n",
    "              \"Total high-school educations\" = sum(high_school, na.rm = TRUE),\n",
    "              \"Total Bachelor educations\" = sum(bachelor, na.rm = TRUE),\n",
    "              \"Total Master educations\" = sum(master, na.rm = TRUE),\n",
    "              \"Total PhD educations\" = sum(phd, na.rm = TRUE))\n",
    "\n",
    "# The data split sizes and the summary is shown below\n",
    "df_split\n",
    "df_summary"
   ]
  },
  {
   "cell_type": "markdown",
   "id": "b645f58e",
   "metadata": {},
   "source": [
    "*Table 3: Data statistics on the training data*"
   ]
  },
  {
   "cell_type": "markdown",
   "id": "a98a4b28-c81a-4a55-b202-165bfdacb27b",
   "metadata": {},
   "source": [
    "*Note: Our data didn't seem to have any observations with missing data (or `NA`) but we still included `na.rm=TRUE` just in case.*\n",
    "\n",
    "There seems to be a relatively even split in the total number of people with different education levels in our training data as they are all between $179$ to $195$."
   ]
  },
  {
   "cell_type": "code",
   "execution_count": null,
   "id": "e5b4a771",
   "metadata": {
    "vscode": {
     "languageId": "r"
    }
   },
   "outputs": [],
   "source": [
    "# Set the plot size\n",
    "options(repr.plot.height = 5, repr.plot.width = 5)\n",
    "\n",
    "# Creating a scatter plot of the testing data\n",
    "train_stat_plot <- df_training |>\n",
    "    ggplot(aes(x = experience_years, y = salary_dollars, color = education)) +\n",
    "    geom_point() +\n",
    "    ggtitle(\"Figure 1: Experience vs. Salary\") +\n",
    "    xlab(\"Experience (years)\") +\n",
    "    ylab(\"Salary (dollars)\") +\n",
    "    labs(color = \"Education Level\")\n",
    "\n",
    "# Display the plot\n",
    "train_stat_plot"
   ]
  },
  {
   "cell_type": "markdown",
   "id": "ac0e1760",
   "metadata": {},
   "source": [
    "We can see from *Figure 1* that there seems to be some relationship between the salary of workers and their years of experience. We also seem to see a very small relationship between the salary of workers and their education level as the PhD data points are higher up than the high school in general.\n",
    "\n",
    "Now that we've looked at our data and some simple statistics and visualisations of it, we can move on to creating our regression model:"
   ]
  },
  {
   "cell_type": "code",
   "execution_count": null,
   "id": "5a5bb5fb-cea8-4d5d-b6f3-3912264adb80",
   "metadata": {
    "vscode": {
     "languageId": "r"
    }
   },
   "outputs": [],
   "source": [
    "# Train the linear regression model on all the predictors (education levels and experience) using the training data split\n",
    "reg_model <- lm(salary_dollars ~ experience_years + phd + bachelor + master, data = df_training)\n",
    "\n",
    "# Summarize the regression results\n",
    "summary(reg_model)"
   ]
  },
  {
   "cell_type": "markdown",
   "id": "72edadd7-7de3-4e3e-834f-6aa465564f40",
   "metadata": {},
   "source": [
    "Looking at the summary of the regression model we trained on the training split, we can see that the `Adjusted R-squared` value seems to be $0.7307$. This suggests a decently good fit of our model to the training data as the higher the value of $R^2$, the better our model will be at predicting new values.\n",
    "\n",
    "In our regression model, we don't include the `high_school` predictor due to multicollinearity and dummy variable trap however it is still part of our predictions."
   ]
  },
  {
   "cell_type": "code",
   "execution_count": null,
   "id": "72587229-b6a3-400a-b717-edee0e4e2388",
   "metadata": {
    "vscode": {
     "languageId": "r"
    }
   },
   "outputs": [],
   "source": [
    "# Make predictions using the new data (df_testing), then rename and combine it with the df_testing data-frame\n",
    "predictions <- predict(reg_model, newdata = df_testing) |>\n",
    "    as.data.frame() |>\n",
    "    mutate(salary_pred = predict(reg_model, newdata = df_testing)) |>  # We use the `newdata` parameter instead of `data` for regression\n",
    "    select(salary_pred) |>\n",
    "    bind_cols(df_testing)\n",
    "\n",
    "# Displaying the top few predictions and original data\n",
    "head(predictions)"
   ]
  },
  {
   "cell_type": "markdown",
   "id": "ec987b5f",
   "metadata": {},
   "source": [
    "*Table 4: Regression model predictions on testing data*"
   ]
  },
  {
   "cell_type": "markdown",
   "id": "c5a3c438",
   "metadata": {},
   "source": [
    "Looking at *Table 4*, we can see that our model has predicted the salaries of the workers in the testing data. We can see that the predicted salaries seem to be in the same order of magnitude as the actual salaries of the workers. It also seems to be very close to the true values. This is promising as it suggests that our model is able to predict the salaries of workers based on their education level and years of experience. Now, we have to recombine the `phd`, `bachelor`, `master`, and `high_school` columns into the `education_level` column to then plot the data properly."
   ]
  },
  {
   "cell_type": "code",
   "execution_count": null,
   "id": "c2832ffa",
   "metadata": {
    "vscode": {
     "languageId": "r"
    }
   },
   "outputs": [],
   "source": [
    "# We renumber and combine the different education levels to make visualisations simpler\n",
    "predictions$high_school[predictions$high_school == 1] <- 1\n",
    "predictions$bachelor[predictions$bachelor == 1] <- 2\n",
    "predictions$master[predictions$master == 1] <- 3\n",
    "predictions$phd[predictions$phd == 1] <- 4\n",
    "\n",
    "# This works because each row only has one column with a non-zero value\n",
    "predictions$education_level <- pmax(predictions$phd, predictions$bachelor, predictions$master, predictions$high_school, na.rm = TRUE)\n",
    "\n",
    "# We can now only use the education levels as numbers instead of them being separate\n",
    "predictions <- select(predictions, salary_pred, salary_dollars, education_level, education, experience_years)\n",
    "\n",
    "# Display the top few newly cleaned up predictions and original data\n",
    "head(predictions)"
   ]
  },
  {
   "cell_type": "markdown",
   "id": "d6fc892b",
   "metadata": {},
   "source": [
    "*Table 5: Regression model predictions on testing data with clean education level data*"
   ]
  },
  {
   "cell_type": "markdown",
   "id": "131dca1d-4222-4e08-8764-046e2598a954",
   "metadata": {},
   "source": [
    "With the predictions and the original data in a single data-frame (*Table 5*), we're now able to plot the predictions and variables visually to see any relationships between the variables and the predictor. Using the new data-frame (*Table 5*) where the `education_level` is an integer range, it helps us more easily visualise any patterns and relationships in our data. It can also potentially show us any interesting details about the data."
   ]
  },
  {
   "cell_type": "code",
   "execution_count": null,
   "id": "235b5228-ce69-4f93-b9cb-d8dc4a8053fc",
   "metadata": {
    "vscode": {
     "languageId": "r"
    }
   },
   "outputs": [],
   "source": [
    "# Set the plot size\n",
    "options(repr.plot.height = 5, repr.plot.width = 10)\n",
    "\n",
    "exp_pred_plot <- predictions |>\n",
    "    ggplot(aes(x = experience_years, y = salary_pred, color = education)) +\n",
    "        geom_point() +\n",
    "        ggtitle(\"Figure 2: Experience vs Predicted Salary\") +\n",
    "        xlab(\"Experience (years)\") +\n",
    "        ylab(\"Salary prediction (dollars)\") +\n",
    "        labs(color = \"Education level\")\n",
    "\n",
    "edu_pred_plot <- predictions |>\n",
    "    ggplot(aes(x = education_level, y = salary_pred, color = education)) +\n",
    "        geom_point() +\n",
    "        ggtitle(\"Figure 3: Education Level vs Predicted Salary\") +\n",
    "        xlab(\"Education level (1 to 4 integer range)\") +\n",
    "        ylab(\"Salary prediction (dollars)\") +\n",
    "        labs(color = \"Education level\") +\n",
    "        xlim(1, 4)  # We only have 4 levels of education so we restrict the plot to that area\n",
    "\n",
    "# View plots side-by-side\n",
    "grid.arrange(exp_pred_plot, edu_pred_plot, ncol = 2)"
   ]
  },
  {
   "cell_type": "markdown",
   "id": "40bf8776",
   "metadata": {},
   "source": [
    "*Note: As the relationship is technically a 3D one, we have to plot it in two separate plots as it would be difficult to visualise it and see any patterns in 3D.*\n",
    "\n",
    "There definitely seems to be a relationship between years of experience and education level to salary. We can see that the salary of workers seems to increase with their years of experience and education level in both *Figure 2* and *Figure 3*. It looks like a worker with a low education level but with high experience can get a salary equal to or higher than a worker with a higher education level but lower experience. This is interesting as it suggests that experience can be just as important as education level in determining the salary of a worker."
   ]
  },
  {
   "cell_type": "markdown",
   "id": "2250b89b-dfc8-4d7a-946e-106dbfea40da",
   "metadata": {},
   "source": [
    "## Discussion"
   ]
  },
  {
   "cell_type": "markdown",
   "id": "0b126b6b-56d0-4830-a0ee-a52139d21860",
   "metadata": {},
   "source": [
    "### Expected findings"
   ]
  },
  {
   "cell_type": "markdown",
   "id": "ff5b63d1-56c3-4b6f-8c11-f9a67cff94c3",
   "metadata": {},
   "source": [
    "The results are about what we expected to find. The higher the education level of an individual, the greater the range of salary they are predicted to have. Salary ranges increase going from high school to Bachelor, to Master, to PhD. The same trend is seen already in employability, where people with higher degrees earned in post-secondary education find it easier to attain a job. Statistics in Canada from 2007 describe a $75.5\\%$ employment rate for high school graduates and an $83.2\\%$ employment rate for university graduates. Employability is also a factor in job prospects, so seeing it have a positive relationship with higher degrees of education tell us that our salary range predictions make sense."
   ]
  },
  {
   "cell_type": "markdown",
   "id": "ac6b57b2-ab97-4d1f-880f-0c865702cd40",
   "metadata": {},
   "source": [
    "### Impacts"
   ]
  },
  {
   "cell_type": "markdown",
   "id": "fb442c8c-b871-4d05-8fda-7e64c8d81738",
   "metadata": {},
   "source": [
    "As seen from the results on the graphs, there is a trend where the people with higher academic achievements typically earn a larger salary, increasing more if they also have decades of work experience. With this information, students coming out of high school, unsure whether or not they should go into post-secondary, can reference this report to see if it is worth the investment. This is especially true if their family is experiencing financial difficulties and cannot afford to send their children to college or university. It helps people make more informed decisions on how high they would like to go in their education to reach their desired salary. They could either stay at a lower level and focus on gaining more experience to earn higher pay (Gao, 2024), or increase their potential salary by spending extra effort and time by achieving a master’s or a PhD."
   ]
  },
  {
   "cell_type": "markdown",
   "id": "7ff59410-1b56-4cde-a473-23984d0246c9",
   "metadata": {},
   "source": [
    "### Future Questions"
   ]
  },
  {
   "cell_type": "markdown",
   "id": "d2d33ab9-c943-429c-a887-d1ef9a05e50a",
   "metadata": {},
   "source": [
    "Future questions and unanswered questions are divided into two subsets. \n",
    "\n",
    "1. First, further questions given our existing data include:\n",
    "\n",
    "    **Effect of Additional Variables:** How would including other variables from the dataset, such as job title and geographic location affect the accuracy of the salary predictions? This is interesting to explore, since the relationship might differ across job titles and locations as well and our regression does not control for those differences. Adding these variables as controls to our regression would complicate our research, but could strengthen our overall model in terms of robustness. \n",
    "\n",
    "    **Interaction Effects:** Variables could also interact with each other. So we could question, are there interaction effects between education level and years of working experience that could further refine the salary predictions? For example, does the impact of a Master's degree on salary differ depending on the number of years of experience?\n",
    "\n",
    "2. Second, further questions or scope for further development with more data include:\n",
    "\n",
    "    **Long-Term Salary Trends:** How do these results change in the long-term? Is there a point where the salary growth plateaus for individuals with higher education levels? To that end, it could even be explored how economic factors, such as inflation or economic growth, impact the relationship between education level, experience, and salary over time? \n",
    "\n",
    "    **Comparative Analysis:** How do the salary predictions based on education level and experience compare to predictions based on other factors, such as job performance evaluations or industry certifications?\n",
    "\n",
    "    **Regional Variations:** Do the trends observed in this study hold true across different regions or countries? Are there regional factors that significantly influence the relationship between education and salary? If so, what is the return on investment for individuals pursuing higher education in terms of increased earning potential compared to the cost of their education?\n",
    "\n",
    "While we would need a larger dataset, or merge other data tables to perform research on most of these topics mentioned above, these topics give examples of how there is further scope for delving deeper into exploring this relationship and topic. "
   ]
  },
  {
   "cell_type": "markdown",
   "id": "af9d839f-c4cd-4e3a-a474-b84385483022",
   "metadata": {},
   "source": [
    "## References\n",
    "\n",
    "Johnson, C.B., Riggs, M.L. & Downey, R.G (1987). Fun with numbers: Alternative models for predicting salary levels. Res High Educ, 27, 349–362. https://doi.org/10.1007/BF00991663\n",
    "\n",
    "Gao, H. (2024). Research on the Effect of Age and Experience on Salary based on Linear Regression and Tree-Based Train. Highlights in Business, Economics and Management, 24, 1401-1407. https://doi.org/10.54097/2xjwsv42\n",
    "\n",
    "Statistics Canada. (2015, November 30). Employment rates, by educational attainment. Statistics Canada. https://www150.statcan.gc.ca/n1/pub/71-222-x/2008001/sectionf/f-education-eng.htm\n"
   ]
  },
  {
   "cell_type": "markdown",
   "id": "558908c4-9947-431c-bf56-5a8fbbb996d9",
   "metadata": {},
   "source": [
    "# Need to remove stuff below here"
   ]
  },
  {
   "cell_type": "markdown",
   "id": "383dcf7c-ce1c-4c5f-9d90-4ae2f77ca9d9",
   "metadata": {},
   "source": [
    "## Methods\n",
    "\n",
    "- Explain how you will conduct either your data analysis and which variables/columns you will use. Note - you do not need to use all variables/columns that exist in the raw data set. In fact, that's often not a good idea. For each variable think: is this a useful variable for prediction?\n",
    "- Describe at least one way that you will visualize the results"
   ]
  },
  {
   "cell_type": "markdown",
   "id": "4c709034-3e4d-41a6-b3b3-eb2370e9e80b",
   "metadata": {},
   "source": [
    "## Expected outcomes and significance\n",
    "\n",
    "We expect to find that higher numbers in all predictor fields (salary, years of work experience, and age) predict a higher level of education.\n",
    "\n",
    "We wish to use our findings to help someone determine what education level, years of experience, and age they should be in order to reach a certain salary range. These results may impact the way people choose to allocate the years of their life, and hopefully help them reach a decision in a less ambiguous way.\n",
    "\n",
    "This analysis could lead to future questions about whether or not people should be spending their time and money on higher education in order to reach their desired financial position."
   ]
  }
 ],
 "metadata": {
  "kernelspec": {
   "display_name": "R",
   "language": "R",
   "name": "ir"
  },
  "language_info": {
   "codemirror_mode": "r",
   "file_extension": ".r",
   "mimetype": "text/x-r-source",
   "name": "R",
   "pygments_lexer": "r",
   "version": "4.3.3"
  }
 },
 "nbformat": 4,
 "nbformat_minor": 5
}
