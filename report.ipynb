{
 "cells": [
  {
   "cell_type": "markdown",
   "id": "15e04cb9-3f91-41c7-ad3b-7492935f3201",
   "metadata": {},
   "source": [
    "# Predicting Education Level"
   ]
  },
  {
   "cell_type": "markdown",
   "id": "561f6589-fbdd-481a-b23f-756d76611440",
   "metadata": {},
   "source": [
    "## Introduction\n",
    "\n",
    "It is generally conceived that the salary amount of a worker depends on job type and experience, but we would like to see if it is possible to reduce this back further to education level. The ability for someone to get a “better” job tends to depend on their education level, which is why our Data Science project question is: \"Can we predict the salary of a worker depending on their education level and years of working experience in their job?”\n",
    "\n",
    "The dataset we are using contains 7 columns reading left to right: `Education`, `Experience`, `Location`, `Job_Title`, `Age`, `Gender`, and `Salary`, where each row represents an individual worker.\n",
    "\n",
    "- `Education`: four categories representing the highest level of education received: High School, Bachelor, Master, PhD\n",
    "- `Experience`: years of professional experience\n",
    "- `Location`: three locations of work: Urban, Suburban, Rural\n",
    "- `Job_Title`: four general job titles: Manager, Director, Analyst, Engineer\n",
    "- `Age`: age\n",
    "- `Gender`: Female or Male\n",
    "- `Salary`: annual salary"
   ]
  },
  {
   "cell_type": "markdown",
   "id": "229b507b-b87c-4c51-b5e4-55a5c22be9aa",
   "metadata": {},
   "source": [
    "## Data analysis"
   ]
  },
  {
   "cell_type": "markdown",
   "id": "a5380fb1-7712-473b-ae0d-42be4ce7e40e",
   "metadata": {},
   "source": [
    "In order to do the data analysis, we first need to download and load in our data."
   ]
  },
  {
   "cell_type": "code",
   "execution_count": 8,
   "id": "d1b2bfb1-126b-495b-8ac6-8885f66bfa95",
   "metadata": {},
   "outputs": [],
   "source": [
    "# Load in the library needed to read the csv file\n",
    "library(tidyverse)"
   ]
  },
  {
   "cell_type": "code",
   "execution_count": 9,
   "id": "0f334341-29ea-4789-91fa-bb860dab3cf5",
   "metadata": {},
   "outputs": [
    {
     "name": "stderr",
     "output_type": "stream",
     "text": [
      "\u001b[1mRows: \u001b[22m\u001b[34m1000\u001b[39m \u001b[1mColumns: \u001b[22m\u001b[34m7\u001b[39m\n",
      "\u001b[36m──\u001b[39m \u001b[1mColumn specification\u001b[22m \u001b[36m────────────────────────────────────────────────────────\u001b[39m\n",
      "\u001b[1mDelimiter:\u001b[22m \",\"\n",
      "\u001b[31mchr\u001b[39m (4): Education, Location, Job_Title, Gender\n",
      "\u001b[32mdbl\u001b[39m (3): Experience, Age, Salary\n",
      "\n",
      "\u001b[36mℹ\u001b[39m Use `spec()` to retrieve the full column specification for this data.\n",
      "\u001b[36mℹ\u001b[39m Specify the column types or set `show_col_types = FALSE` to quiet this message.\n"
     ]
    },
    {
     "data": {
      "text/html": [
       "<table class=\"dataframe\">\n",
       "<caption>A tibble: 6 × 7</caption>\n",
       "<thead>\n",
       "\t<tr><th scope=col>Education</th><th scope=col>Experience</th><th scope=col>Location</th><th scope=col>Job_Title</th><th scope=col>Age</th><th scope=col>Gender</th><th scope=col>Salary</th></tr>\n",
       "\t<tr><th scope=col>&lt;chr&gt;</th><th scope=col>&lt;dbl&gt;</th><th scope=col>&lt;chr&gt;</th><th scope=col>&lt;chr&gt;</th><th scope=col>&lt;dbl&gt;</th><th scope=col>&lt;chr&gt;</th><th scope=col>&lt;dbl&gt;</th></tr>\n",
       "</thead>\n",
       "<tbody>\n",
       "\t<tr><td>High School</td><td> 8</td><td>Urban   </td><td>Manager </td><td>63</td><td>Male  </td><td> 84620.05</td></tr>\n",
       "\t<tr><td>PhD        </td><td>11</td><td>Suburban</td><td>Director</td><td>59</td><td>Male  </td><td>142591.26</td></tr>\n",
       "\t<tr><td>Bachelor   </td><td>28</td><td>Suburban</td><td>Manager </td><td>61</td><td>Female</td><td> 97800.26</td></tr>\n",
       "\t<tr><td>High School</td><td>29</td><td>Rural   </td><td>Director</td><td>45</td><td>Male  </td><td> 96834.67</td></tr>\n",
       "\t<tr><td>PhD        </td><td>25</td><td>Urban   </td><td>Analyst </td><td>26</td><td>Female</td><td>132157.79</td></tr>\n",
       "\t<tr><td>PhD        </td><td>19</td><td>Rural   </td><td>Director</td><td>27</td><td>Female</td><td>156312.94</td></tr>\n",
       "</tbody>\n",
       "</table>\n"
      ],
      "text/latex": [
       "A tibble: 6 × 7\n",
       "\\begin{tabular}{lllllll}\n",
       " Education & Experience & Location & Job\\_Title & Age & Gender & Salary\\\\\n",
       " <chr> & <dbl> & <chr> & <chr> & <dbl> & <chr> & <dbl>\\\\\n",
       "\\hline\n",
       "\t High School &  8 & Urban    & Manager  & 63 & Male   &  84620.05\\\\\n",
       "\t PhD         & 11 & Suburban & Director & 59 & Male   & 142591.26\\\\\n",
       "\t Bachelor    & 28 & Suburban & Manager  & 61 & Female &  97800.26\\\\\n",
       "\t High School & 29 & Rural    & Director & 45 & Male   &  96834.67\\\\\n",
       "\t PhD         & 25 & Urban    & Analyst  & 26 & Female & 132157.79\\\\\n",
       "\t PhD         & 19 & Rural    & Director & 27 & Female & 156312.94\\\\\n",
       "\\end{tabular}\n"
      ],
      "text/markdown": [
       "\n",
       "A tibble: 6 × 7\n",
       "\n",
       "| Education &lt;chr&gt; | Experience &lt;dbl&gt; | Location &lt;chr&gt; | Job_Title &lt;chr&gt; | Age &lt;dbl&gt; | Gender &lt;chr&gt; | Salary &lt;dbl&gt; |\n",
       "|---|---|---|---|---|---|---|\n",
       "| High School |  8 | Urban    | Manager  | 63 | Male   |  84620.05 |\n",
       "| PhD         | 11 | Suburban | Director | 59 | Male   | 142591.26 |\n",
       "| Bachelor    | 28 | Suburban | Manager  | 61 | Female |  97800.26 |\n",
       "| High School | 29 | Rural    | Director | 45 | Male   |  96834.67 |\n",
       "| PhD         | 25 | Urban    | Analyst  | 26 | Female | 132157.79 |\n",
       "| PhD         | 19 | Rural    | Director | 27 | Female | 156312.94 |\n",
       "\n"
      ],
      "text/plain": [
       "  Education   Experience Location Job_Title Age Gender Salary   \n",
       "1 High School  8         Urban    Manager   63  Male    84620.05\n",
       "2 PhD         11         Suburban Director  59  Male   142591.26\n",
       "3 Bachelor    28         Suburban Manager   61  Female  97800.26\n",
       "4 High School 29         Rural    Director  45  Male    96834.67\n",
       "5 PhD         25         Urban    Analyst   26  Female 132157.79\n",
       "6 PhD         19         Rural    Director  27  Female 156312.94"
      ]
     },
     "metadata": {},
     "output_type": "display_data"
    }
   ],
   "source": [
    "# Download and load the csv file into a data frame\n",
    "# Dataset website: https://www.kaggle.com/datasets/mrsimple07/salary-prediction-data\n",
    "# Dataset file website: https://raw.githubusercontent.com/WhenLifeHandsYouLemons/UBC-DSCI-100-Project/main/data/salary_prediction_data.csv\n",
    "download.file(\"https://raw.githubusercontent.com/WhenLifeHandsYouLemons/UBC-DSCI-100-Project/main/data/salary_prediction_data.csv\", \"data/salary_prediction_data.csv\")\n",
    "\n",
    "df_untidy <- read_csv(\"data/salary_prediction_data.csv\")\n",
    "\n",
    "# Dataset before cleaning\n",
    "head(df_untidy)"
   ]
  },
  {
   "cell_type": "markdown",
   "id": "bf114516-49e8-4581-a42a-944a05e8d96b",
   "metadata": {},
   "source": [
    "We then need to tidy our dataset to only include the columns (variables) we'll use and then clean up the row data to make sense. We clean it by making the variables all lowercase and use underlines instead of spaces. We also round the `salary` column to be $2$ decimal places."
   ]
  },
  {
   "cell_type": "code",
   "execution_count": 10,
   "id": "94d8fa19-d884-4740-bc4f-4a26cc9345ce",
   "metadata": {},
   "outputs": [
    {
     "data": {
      "text/html": [
       "<table class=\"dataframe\">\n",
       "<caption>A tibble: 6 × 7</caption>\n",
       "<thead>\n",
       "\t<tr><th scope=col>salary_dollars</th><th scope=col>education</th><th scope=col>experience_years</th><th scope=col>phd</th><th scope=col>bachelor</th><th scope=col>master</th><th scope=col>high_school</th></tr>\n",
       "\t<tr><th scope=col>&lt;dbl&gt;</th><th scope=col>&lt;fct&gt;</th><th scope=col>&lt;dbl&gt;</th><th scope=col>&lt;dbl&gt;</th><th scope=col>&lt;dbl&gt;</th><th scope=col>&lt;dbl&gt;</th><th scope=col>&lt;dbl&gt;</th></tr>\n",
       "</thead>\n",
       "<tbody>\n",
       "\t<tr><td> 84620.05</td><td>High School</td><td> 8</td><td>0</td><td>0</td><td>0</td><td>1</td></tr>\n",
       "\t<tr><td>142591.26</td><td>PhD        </td><td>11</td><td>1</td><td>0</td><td>0</td><td>0</td></tr>\n",
       "\t<tr><td> 97800.26</td><td>Bachelor   </td><td>28</td><td>0</td><td>1</td><td>0</td><td>0</td></tr>\n",
       "\t<tr><td> 96834.67</td><td>High School</td><td>29</td><td>0</td><td>0</td><td>0</td><td>1</td></tr>\n",
       "\t<tr><td>132157.79</td><td>PhD        </td><td>25</td><td>1</td><td>0</td><td>0</td><td>0</td></tr>\n",
       "\t<tr><td>156312.94</td><td>PhD        </td><td>19</td><td>1</td><td>0</td><td>0</td><td>0</td></tr>\n",
       "</tbody>\n",
       "</table>\n"
      ],
      "text/latex": [
       "A tibble: 6 × 7\n",
       "\\begin{tabular}{lllllll}\n",
       " salary\\_dollars & education & experience\\_years & phd & bachelor & master & high\\_school\\\\\n",
       " <dbl> & <fct> & <dbl> & <dbl> & <dbl> & <dbl> & <dbl>\\\\\n",
       "\\hline\n",
       "\t  84620.05 & High School &  8 & 0 & 0 & 0 & 1\\\\\n",
       "\t 142591.26 & PhD         & 11 & 1 & 0 & 0 & 0\\\\\n",
       "\t  97800.26 & Bachelor    & 28 & 0 & 1 & 0 & 0\\\\\n",
       "\t  96834.67 & High School & 29 & 0 & 0 & 0 & 1\\\\\n",
       "\t 132157.79 & PhD         & 25 & 1 & 0 & 0 & 0\\\\\n",
       "\t 156312.94 & PhD         & 19 & 1 & 0 & 0 & 0\\\\\n",
       "\\end{tabular}\n"
      ],
      "text/markdown": [
       "\n",
       "A tibble: 6 × 7\n",
       "\n",
       "| salary_dollars &lt;dbl&gt; | education &lt;fct&gt; | experience_years &lt;dbl&gt; | phd &lt;dbl&gt; | bachelor &lt;dbl&gt; | master &lt;dbl&gt; | high_school &lt;dbl&gt; |\n",
       "|---|---|---|---|---|---|---|\n",
       "|  84620.05 | High School |  8 | 0 | 0 | 0 | 1 |\n",
       "| 142591.26 | PhD         | 11 | 1 | 0 | 0 | 0 |\n",
       "|  97800.26 | Bachelor    | 28 | 0 | 1 | 0 | 0 |\n",
       "|  96834.67 | High School | 29 | 0 | 0 | 0 | 1 |\n",
       "| 132157.79 | PhD         | 25 | 1 | 0 | 0 | 0 |\n",
       "| 156312.94 | PhD         | 19 | 1 | 0 | 0 | 0 |\n",
       "\n"
      ],
      "text/plain": [
       "  salary_dollars education   experience_years phd bachelor master high_school\n",
       "1  84620.05      High School  8               0   0        0      1          \n",
       "2 142591.26      PhD         11               1   0        0      0          \n",
       "3  97800.26      Bachelor    28               0   1        0      0          \n",
       "4  96834.67      High School 29               0   0        0      1          \n",
       "5 132157.79      PhD         25               1   0        0      0          \n",
       "6 156312.94      PhD         19               1   0        0      0          "
      ]
     },
     "metadata": {},
     "output_type": "display_data"
    }
   ],
   "source": [
    "# Rename all the columns to include the units and be in lowercase\n",
    "# Then select the newly mutated columns that we will use in our analysis only\n",
    "df_tidy <- df_untidy |>\n",
    "    mutate(education = Education, experience_years = Experience, salary_dollars = Salary) |>\n",
    "    select(salary_dollars, education, experience_years) |>\n",
    "    mutate(salary_dollars = round(salary_dollars, 2)) |>    # We round the dollars to 2 decimal places\n",
    "    mutate(education = as_factor(education))                # We change the column's data type\n",
    "\n",
    "# Create dummy variables for education levels\n",
    "# This is used for predicting and then combined into one for visualisations\n",
    "df_tidy$phd <- as.numeric(df_tidy$education == \"PhD\")\n",
    "df_tidy$bachelor <- as.numeric(df_tidy$education == \"Bachelor\")\n",
    "df_tidy$master <- as.numeric(df_tidy$education == \"Master\")\n",
    "df_tidy$high_school <- as.numeric(df_tidy$education == \"High School\")\n",
    "\n",
    "# This is the same dataset, but cleaned up\n",
    "head(df_tidy)"
   ]
  },
  {
   "cell_type": "markdown",
   "id": "ed29028f-66fe-4a69-9acc-a016c120f108",
   "metadata": {},
   "source": [
    "In order to make the regression work, we needed to change the `education` column from classes to integer variables."
   ]
  },
  {
   "cell_type": "code",
   "execution_count": 11,
   "id": "b41e9a6e-7544-45c5-b9d4-534ef1b6f353",
   "metadata": {},
   "outputs": [],
   "source": [
    "# Load library for spliting data into training and testing\n",
    "library(tidymodels)"
   ]
  },
  {
   "cell_type": "markdown",
   "id": "b2f3a38c-9c46-415f-b5e3-3b4a91572c20",
   "metadata": {},
   "source": [
    "Now, we can split our entire dataset into a training and a testing split. To make it consistent each time (not be affected by randomness), we use the `set.seed()` function to make it split the same each time it's run.\n",
    "\n",
    "Before we do the training and analysis though, we can look at a subsection of our data and get some simple statistics from it to get an idea of how our data looks like:"
   ]
  },
  {
   "cell_type": "code",
   "execution_count": 12,
   "id": "f1088c48-33d6-4385-828b-462262c294e9",
   "metadata": {},
   "outputs": [
    {
     "data": {
      "text/plain": [
       "<Training/Testing/Total>\n",
       "<748/252/1000>"
      ]
     },
     "metadata": {},
     "output_type": "display_data"
    },
    {
     "data": {
      "text/html": [
       "<table class=\"dataframe\">\n",
       "<caption>A tibble: 1 × 7</caption>\n",
       "<thead>\n",
       "\t<tr><th scope=col>Total observations in subsection</th><th scope=col>Average experience (years)</th><th scope=col>Average salary (dollars)</th><th scope=col>Total high-school educations</th><th scope=col>Total Bachelor educations</th><th scope=col>Total Master educations</th><th scope=col>Total PhD educations</th></tr>\n",
       "\t<tr><th scope=col>&lt;int&gt;</th><th scope=col>&lt;dbl&gt;</th><th scope=col>&lt;dbl&gt;</th><th scope=col>&lt;dbl&gt;</th><th scope=col>&lt;dbl&gt;</th><th scope=col>&lt;dbl&gt;</th><th scope=col>&lt;dbl&gt;</th></tr>\n",
       "</thead>\n",
       "<tbody>\n",
       "\t<tr><td>748</td><td>15</td><td>105568.6</td><td>190</td><td>184</td><td>195</td><td>179</td></tr>\n",
       "</tbody>\n",
       "</table>\n"
      ],
      "text/latex": [
       "A tibble: 1 × 7\n",
       "\\begin{tabular}{lllllll}\n",
       " Total observations in subsection & Average experience (years) & Average salary (dollars) & Total high-school educations & Total Bachelor educations & Total Master educations & Total PhD educations\\\\\n",
       " <int> & <dbl> & <dbl> & <dbl> & <dbl> & <dbl> & <dbl>\\\\\n",
       "\\hline\n",
       "\t 748 & 15 & 105568.6 & 190 & 184 & 195 & 179\\\\\n",
       "\\end{tabular}\n"
      ],
      "text/markdown": [
       "\n",
       "A tibble: 1 × 7\n",
       "\n",
       "| Total observations in subsection &lt;int&gt; | Average experience (years) &lt;dbl&gt; | Average salary (dollars) &lt;dbl&gt; | Total high-school educations &lt;dbl&gt; | Total Bachelor educations &lt;dbl&gt; | Total Master educations &lt;dbl&gt; | Total PhD educations &lt;dbl&gt; |\n",
       "|---|---|---|---|---|---|---|\n",
       "| 748 | 15 | 105568.6 | 190 | 184 | 195 | 179 |\n",
       "\n"
      ],
      "text/plain": [
       "  Total observations in subsection Average experience (years)\n",
       "1 748                              15                        \n",
       "  Average salary (dollars) Total high-school educations\n",
       "1 105568.6                 190                         \n",
       "  Total Bachelor educations Total Master educations Total PhD educations\n",
       "1 184                       195                     179                 "
      ]
     },
     "metadata": {},
     "output_type": "display_data"
    }
   ],
   "source": [
    "# Set the seed for this code cell\n",
    "set.seed(1)\n",
    "\n",
    "# Split data into a rough 75-25 split\n",
    "df_split <- initial_split(df_tidy, 0.75, salary_dollars)\n",
    "df_train <- training(df_split)\n",
    "df_testing <- testing(df_split)\n",
    "\n",
    "# Summarise the values in each of our predictor classes\n",
    "df_summary <- df_train |>\n",
    "    summarise(\"Total observations in subsection\" = length(experience_years),\n",
    "              \"Average experience (years)\" = round(mean(experience_years, na.rm = TRUE)),\n",
    "              \"Average salary (dollars)\" = round(mean(salary_dollars, na.rm = TRUE), 2),\n",
    "              \"Total high-school educations\" = sum(high_school, na.rm = TRUE),\n",
    "              \"Total Bachelor educations\" = sum(bachelor, na.rm = TRUE),\n",
    "              \"Total Master educations\" = sum(master, na.rm = TRUE),\n",
    "              \"Total PhD educations\" = sum(phd, na.rm = TRUE))\n",
    "\n",
    "# The split sizes and the summary is shown below\n",
    "df_split\n",
    "df_summary\n",
    "\n",
    "#! Here we need to show the plot visualisations of the data and predictors then talk about it"
   ]
  },
  {
   "cell_type": "markdown",
   "id": "a98a4b28-c81a-4a55-b202-165bfdacb27b",
   "metadata": {},
   "source": [
    "NOTE: Our data didn't seem to have any observations with missing data (or `NA`) but we still included `na.rm=TRUE` just in case.\n",
    "\n",
    "Now that we've looked at our data and some simple statistics and visualisations of it, we can move on to creating our regression model:"
   ]
  },
  {
   "cell_type": "code",
   "execution_count": 13,
   "id": "5a5bb5fb-cea8-4d5d-b6f3-3912264adb80",
   "metadata": {},
   "outputs": [
    {
     "data": {
      "text/plain": [
       "\n",
       "Call:\n",
       "lm(formula = salary_dollars ~ experience_years + phd + bachelor + \n",
       "    master, data = df_train)\n",
       "\n",
       "Residuals:\n",
       "   Min     1Q Median     3Q    Max \n",
       "-41100 -11379   -259  10364  36197 \n",
       "\n",
       "Coefficients:\n",
       "                 Estimate Std. Error t value Pr(>|t|)    \n",
       "(Intercept)      60926.43    1396.04   43.64   <2e-16 ***\n",
       "experience_years  1110.73      64.03   17.35   <2e-16 ***\n",
       "phd              58151.73    1522.97   38.18   <2e-16 ***\n",
       "bachelor         16662.63    1512.14   11.02   <2e-16 ***\n",
       "master           38668.67    1488.77   25.97   <2e-16 ***\n",
       "---\n",
       "Signif. codes:  0 ‘***’ 0.001 ‘**’ 0.01 ‘*’ 0.05 ‘.’ 0.1 ‘ ’ 1\n",
       "\n",
       "Residual standard error: 14600 on 743 degrees of freedom\n",
       "Multiple R-squared:  0.7322,\tAdjusted R-squared:  0.7307 \n",
       "F-statistic: 507.8 on 4 and 743 DF,  p-value: < 2.2e-16\n"
      ]
     },
     "metadata": {},
     "output_type": "display_data"
    }
   ],
   "source": [
    "# Train the linear regression model on all the predictors (education levels and experience) using the training data split\n",
    "reg_model <- lm(salary_dollars ~ experience_years + phd + bachelor + master, data = df_train)\n",
    "\n",
    "# Summarize the regression results\n",
    "summary(reg_model)"
   ]
  },
  {
   "cell_type": "markdown",
   "id": "72edadd7-7de3-4e3e-834f-6aa465564f40",
   "metadata": {},
   "source": [
    "Looking at the summary of the regression model we trained on the training split, we can see that the `Adjusted R-squared` value seems to be $0.7307$. This suggests a decently good fit of our model to the training data.\n",
    "\n",
    "In our regression model, we had to remove the `high_school` predictor due to multicollinearity and dummy variable trap."
   ]
  },
  {
   "cell_type": "code",
   "execution_count": 14,
   "id": "72587229-b6a3-400a-b717-edee0e4e2388",
   "metadata": {},
   "outputs": [
    {
     "ename": "ERROR",
     "evalue": "Error in eval(expr, envir, enclos): object 'model5' not found\n",
     "output_type": "error",
     "traceback": [
      "Error in eval(expr, envir, enclos): object 'model5' not found\nTraceback:\n",
      "1. bind_cols(select(mutate(as.data.frame(predict(model5, newdata = df_testing)), \n .     salary_pred = predict(model5, newdata = df_testing)), salary_pred), \n .     df_testing)",
      "2. list2(...)",
      "3. select(mutate(as.data.frame(predict(model5, newdata = df_testing)), \n .     salary_pred = predict(model5, newdata = df_testing)), salary_pred)",
      "4. mutate(as.data.frame(predict(model5, newdata = df_testing)), \n .     salary_pred = predict(model5, newdata = df_testing))",
      "5. as.data.frame(predict(model5, newdata = df_testing))",
      "6. predict(model5, newdata = df_testing)"
     ]
    }
   ],
   "source": [
    "# Make predictions using the new data (df_testing), then rename and combine it with the df_testing data-frame\n",
    "predictions <- predict(model5, newdata=df_testing) |>\n",
    "    as.data.frame() |>\n",
    "    mutate(salary_pred = predict(model5, newdata = df_testing)) |>    # We use the `newdata` parameter instead of `data` for regression\n",
    "    select(salary_pred) |>\n",
    "    bind_cols(df_testing)\n",
    "\n",
    "# Displaying the top few predictions and original data\n",
    "head(predictions)\n",
    "\n",
    "# We renumber and combine the different education levels to make visualisations simpler\n",
    "predictions$high_school[predictions$high_school == 1] <- 1\n",
    "predictions$bachelor[predictions$bachelor == 1] <- 2\n",
    "predictions$master[predictions$master == 1] <- 3\n",
    "predictions$phd[predictions$phd == 1] <- 4\n",
    "\n",
    "# This works because each row only has one column with a non-zero value\n",
    "predictions$education_level <- pmax(predictions$phd, predictions$bachelor, predictions$master, predictions$high_school, na.rm = TRUE)\n",
    "\n",
    "# We can now only use the education levels as numbers instead of them being separate\n",
    "predictions <- select(predictions, salary_pred, salary_dollars, education_level, education, experience_years)\n",
    "\n",
    "# Display the top few newly cleaned up predictions and original data\n",
    "head(predictions)"
   ]
  },
  {
   "cell_type": "markdown",
   "id": "131dca1d-4222-4e08-8764-046e2598a954",
   "metadata": {},
   "source": [
    "With the predictions and the original data in a single data-frame, we're now able to plot it visually to see any relationships and accuracies. Using the new data-frame where the `education_level` is an integer range, it helps us more easily visualise any patterns and relationships in our data. It can also potentially show us any interesting details about the data."
   ]
  },
  {
   "cell_type": "code",
   "execution_count": null,
   "id": "235b5228-ce69-4f93-b9cb-d8dc4a8053fc",
   "metadata": {},
   "outputs": [],
   "source": [
    "options(repr.plot.height = 5, repr.plot.width = 5)\n",
    "\n",
    "exp_pred_plot <- ggplot(predictions, aes(x = experience_years, y = salary_pred, color = education)) +\n",
    "    geom_point() +\n",
    "    xlab(\"Experience (years)\") +\n",
    "    ylab(\"Salary prediction (dollars)\") +\n",
    "    labs(color=\"Education level\")\n",
    "\n",
    "edu_pred_plot <- ggplot(predictions, aes(x = education_level, y = salary_pred, color = education)) +\n",
    "    geom_point() +\n",
    "    xlab(\"Education level (1 to 4 integer range)\") +\n",
    "    ylab(\"Salary prediction (dollars)\") +\n",
    "    labs(color=\"Education level\") +\n",
    "    xlim(1, 4)    # We only have 4 levels of education so we restrict the plot to that area\n",
    "\n",
    "#! Place plots side-by-side to take up less space\n",
    "exp_pred_plot\n",
    "edu_pred_plot"
   ]
  },
  {
   "cell_type": "markdown",
   "id": "2250b89b-dfc8-4d7a-946e-106dbfea40da",
   "metadata": {},
   "source": [
    "## Discussion"
   ]
  },
  {
   "cell_type": "markdown",
   "id": "8282cc81-b0ad-41c3-981a-8d38c7c6ea48",
   "metadata": {},
   "source": [
    "### Outcomes"
   ]
  },
  {
   "cell_type": "markdown",
   "id": "ebbfa3d5-f936-44ec-81df-2d284d596254",
   "metadata": {},
   "source": []
  },
  {
   "cell_type": "markdown",
   "id": "0b126b6b-56d0-4830-a0ee-a52139d21860",
   "metadata": {},
   "source": [
    "### Expected findings"
   ]
  },
  {
   "cell_type": "markdown",
   "id": "ff5b63d1-56c3-4b6f-8c11-f9a67cff94c3",
   "metadata": {},
   "source": [
    "The results are about what we expected to find. The higher the education level of an individual, the greater the range of salary they are predicted to have. Salary ranges increase going from high school to Bachelor, to Master, to PhD. The same trend is seen already in employability, where people with higher degrees earned in post-secondary education find it easier to attain a job. Statistics in Canada from 2007 describe a 75.5% employment rate for high school graduates and an 83.2% employment rate for university graduates. Employability is also a factor in job prospects, so seeing it have a positive relationship with higher degrees of education tell us that our salary range predictions make sense."
   ]
  },
  {
   "cell_type": "markdown",
   "id": "ac6b57b2-ab97-4d1f-880f-0c865702cd40",
   "metadata": {},
   "source": [
    "### Impacts"
   ]
  },
  {
   "cell_type": "markdown",
   "id": "fb442c8c-b871-4d05-8fda-7e64c8d81738",
   "metadata": {},
   "source": [
    "As seen from the results on the graphs, there is a trend where the people with higher academic achievements typically earn a larger salary, increasing more if they also have decades of work experience. With this information, students coming out of high school, unsure whether or not they should go into post-secondary, can reference this report to see if it is worth the investment. This is especially true if their family is experiencing financial difficulties and cannot afford to send their children to college or university. It helps people make more informed decisions on how high they would like to go in their education to reach their desired salary. They could either stay at a lower level and focus on gaining more experience to earn higher pay (Gao, 2024), or increase their potential salary by spending extra effort and time by achieving a master’s or a PhD. "
   ]
  },
  {
   "cell_type": "markdown",
   "id": "7ff59410-1b56-4cde-a473-23984d0246c9",
   "metadata": {},
   "source": [
    "### Future Questions"
   ]
  },
  {
   "cell_type": "markdown",
   "id": "d2d33ab9-c943-429c-a887-d1ef9a05e50a",
   "metadata": {},
   "source": [
    "- low accuracy, because no relationship\n",
    "- "
   ]
  },
  {
   "cell_type": "markdown",
   "id": "af9d839f-c4cd-4e3a-a474-b84385483022",
   "metadata": {},
   "source": [
    "## References\n",
    "\n",
    "Johnson, C.B., Riggs, M.L. & Downey, R.G (1987). Fun with numbers: Alternative models for predicting salary levels. Res High Educ, 27, 349–362. https://doi.org/10.1007/BF00991663\n",
    "\n",
    "Gao, H. (2024). Research on the Effect of Age and Experience on Salary based on Linear Regression and Tree-Based Train. Highlights in Business, Economics and Management, 24, 1401-1407. https://doi.org/10.54097/2xjwsv42\r\n",
    "\n",
    "Statistics Canada. (2015, November 30). Employment rates, by educational attainment. Statistics Canada. https://www150.statcan.gc.ca/n1/pub/71-222-x/2008001/sectionf/f-education-eng.htm\n"
   ]
  },
  {
   "cell_type": "markdown",
   "id": "558908c4-9947-431c-bf56-5a8fbbb996d9",
   "metadata": {},
   "source": [
    "## Need to remove stuff below here."
   ]
  },
  {
   "cell_type": "markdown",
   "id": "383dcf7c-ce1c-4c5f-9d90-4ae2f77ca9d9",
   "metadata": {},
   "source": [
    "## Methods\n",
    "\n",
    "- Explain how you will conduct either your data analysis and which variables/columns you will use. Note - you do not need to use all variables/columns that exist in the raw data set. In fact, that's often not a good idea. For each variable think: is this a useful variable for prediction?\n",
    "- Describe at least one way that you will visualize the results"
   ]
  },
  {
   "cell_type": "markdown",
   "id": "4c709034-3e4d-41a6-b3b3-eb2370e9e80b",
   "metadata": {},
   "source": [
    "## Expected outcomes and significance\n",
    "\n",
    "We expect to find that higher numbers in all predictor fields (salary, years of work experience, and age) predict a higher level of education.\n",
    "\n",
    "We wish to use our findings to help someone determine what education level, years of experience, and age they should be in order to reach a certain salary range. These results may impact the way people choose to allocate the years of their life, and hopefully help them reach a decision in a less ambiguous way.\n",
    "\n",
    "This analysis could lead to future questions about whether or not people should be spending their time and money on higher education in order to reach their desired financial position."
   ]
  }
 ],
 "metadata": {
  "kernelspec": {
   "display_name": "R",
   "language": "R",
   "name": "ir"
  },
  "language_info": {
   "codemirror_mode": "r",
   "file_extension": ".r",
   "mimetype": "text/x-r-source",
   "name": "R",
   "pygments_lexer": "r",
   "version": "4.3.1"
  }
 },
 "nbformat": 4,
 "nbformat_minor": 5
}
